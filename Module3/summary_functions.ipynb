{
 "cells": [
  {
   "cell_type": "markdown",
   "metadata": {},
   "source": [
    "## Summary Functions\n",
    "\n",
    "### Dataset\n",
    "From Kaggle: https://www.kaggle.com/datasets/zynicide/wine-reviews\n",
    "\n",
    "Download set using Kaggle:\n",
    "```\n",
    "kaggle datasets download -d zynicide/wine-reviews\n",
    "```\n",
    "\n",
    "download it to your `data/` folder and expand the `zip` file"
   ]
  }
 ],
 "metadata": {
  "language_info": {
   "name": "python"
  },
  "orig_nbformat": 4
 },
 "nbformat": 4,
 "nbformat_minor": 2
}
