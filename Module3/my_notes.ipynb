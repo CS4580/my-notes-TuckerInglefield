{
 "cells": [
  {
   "cell_type": "markdown",
   "metadata": {},
   "source": [
    "## Duplicate Values?"
   ]
  },
  {
   "cell_type": "code",
   "execution_count": 10,
   "metadata": {},
   "outputs": [],
   "source": [
    "# Total number of duplicates in the dataset\n",
    "# data_df.duplicated().sum"
   ]
  },
  {
   "cell_type": "code",
   "execution_count": 11,
   "metadata": {},
   "outputs": [],
   "source": [
    "# Extract the dataframe containing the duplicated values\n",
    "# data_df.loc[data_df.duplicated(), :]"
   ]
  },
  {
   "cell_type": "code",
   "execution_count": 12,
   "metadata": {},
   "outputs": [],
   "source": [
    "# Drop the duplicated records\n",
    "# data_df.drop_duplicates(inplace=True, keep='first')"
   ]
  },
  {
   "cell_type": "code",
   "execution_count": 13,
   "metadata": {},
   "outputs": [],
   "source": [
    "# Print the shape of the dataframe\n",
    "# data_df.shape"
   ]
  },
  {
   "cell_type": "markdown",
   "metadata": {},
   "source": [
    "## Different Datatypes?"
   ]
  },
  {
   "cell_type": "markdown",
   "metadata": {},
   "source": [
    "### Datetime"
   ]
  },
  {
   "cell_type": "code",
   "execution_count": 14,
   "metadata": {},
   "outputs": [],
   "source": [
    "# Convert the column \"object\" to a given type, in this case, datetime\n",
    "# data_df['datetime_column'] = pd.to_datetime(data_df['date_column'])\n",
    "# Verify it\n",
    "# data_df.info()"
   ]
  },
  {
   "cell_type": "code",
   "execution_count": 15,
   "metadata": {},
   "outputs": [],
   "source": [
    "# Pull specifics from date column\n",
    "# data_df['year_column'] = data_df['datetime_column'].dt.year\n",
    "# data_df['month_column'] = data_df['datetime_column'].dt.month\n",
    "# data_df['day_column'] = data_df['datetime_column'].dt.day"
   ]
  },
  {
   "cell_type": "code",
   "execution_count": 16,
   "metadata": {},
   "outputs": [],
   "source": [
    "# now, we can drop the temporary column datetime\n",
    "# data_df.drop('datetime_column', inplace=True, axis=1)"
   ]
  },
  {
   "cell_type": "markdown",
   "metadata": {},
   "source": [
    "## Ilogical records?"
   ]
  },
  {
   "cell_type": "code",
   "execution_count": null,
   "metadata": {},
   "outputs": [],
   "source": [
    "# drop rows based on a row's column value\n",
    "\n",
    "# how many are there?:\n",
    "# (data_df['column_to_filter']==bad_value).sum()\n",
    "# now lets drop them...\n",
    "# data_df.drop(data_df[data_df['column_to_filter'] == bad_value].index, inplace=True)\n",
    "# verify...\n",
    "# (data_df['column_to_filter']==bad_value).sum()"
   ]
  }
 ],
 "metadata": {
  "kernelspec": {
   "display_name": "base",
   "language": "python",
   "name": "python3"
  },
  "language_info": {
   "codemirror_mode": {
    "name": "ipython",
    "version": 3
   },
   "file_extension": ".py",
   "mimetype": "text/x-python",
   "name": "python",
   "nbconvert_exporter": "python",
   "pygments_lexer": "ipython3",
   "version": "3.11.5"
  },
  "orig_nbformat": 4
 },
 "nbformat": 4,
 "nbformat_minor": 2
}
